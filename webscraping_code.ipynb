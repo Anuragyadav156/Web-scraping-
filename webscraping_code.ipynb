{
 "cells": [
  {
   "cell_type": "code",
   "execution_count": null,
   "id": "d6771251-a360-4111-86aa-575eed554446",
   "metadata": {},
   "outputs": [],
   "source": []
  },
  {
   "cell_type": "code",
   "execution_count": null,
   "id": "25689a8d-4918-4770-84a1-d0e13a290047",
   "metadata": {},
   "outputs": [],
   "source": []
  },
  {
   "cell_type": "code",
   "execution_count": null,
   "id": "821bb6ce-6d41-4cca-88bf-266dd7df37a6",
   "metadata": {},
   "outputs": [],
   "source": []
  },
  {
   "cell_type": "code",
   "execution_count": null,
   "id": "49a4ad61-39d5-44d9-b20e-3ffe98dfae7a",
   "metadata": {},
   "outputs": [],
   "source": []
  },
  {
   "cell_type": "code",
   "execution_count": null,
   "id": "c93f58c3-66af-4154-a992-916ecae5a9cc",
   "metadata": {},
   "outputs": [],
   "source": []
  },
  {
   "cell_type": "code",
   "execution_count": null,
   "id": "10af22aa-fcd3-4543-b33c-dc436d4168e1",
   "metadata": {},
   "outputs": [],
   "source": [
    "url = \"https://www.espncricinfo.com/records/trophy/fow-highest-partnerships-for-any-wicket/indian-premier-league-117\"\n",
    "page = requests.get(url)\n",
    "soup = BeautifulSoup(page.text, \"html.parser\")"
   ]
  },
  {
   "cell_type": "code",
   "execution_count": null,
   "id": "4f77740c-7580-4be3-8c40-18e937a1d067",
   "metadata": {},
   "outputs": [],
   "source": [
    "print(soup)"
   ]
  },
  {
   "cell_type": "code",
   "execution_count": null,
   "id": "e8c07b38-dd57-489c-b2af-e2199379f29e",
   "metadata": {},
   "outputs": [],
   "source": [
    "firsttable = soup.find('table')\n",
    "print(firsttable.prettify())"
   ]
  },
  {
   "cell_type": "code",
   "execution_count": null,
   "id": "1ed28210-60ba-459b-8a6d-c479457e8301",
   "metadata": {},
   "outputs": [],
   "source": [
    "table = soup.find('table', class_ = \"ds-w-full ds-table ds-table-xs ds-table-auto ds-w-full ds-overflow-scroll ds-scrollbar-hide\")\n",
    "table_title = table.find_all('span')[:8]\n",
    "print(table_title)"
   ]
  },
  {
   "cell_type": "code",
   "execution_count": null,
   "id": "132af50a-39f8-4845-8db9-ac7fafe93221",
   "metadata": {},
   "outputs": [],
   "source": [
    "team_title = [title.text.strip() for title in table_title][:8]\n",
    "print(team_title)"
   ]
  },
  {
   "cell_type": "code",
   "execution_count": null,
   "id": "e0ce9c43-ab63-4cea-82e7-707e1419d7bd",
   "metadata": {},
   "outputs": [],
   "source": [
    "import pandas as pd"
   ]
  },
  {
   "cell_type": "code",
   "execution_count": null,
   "id": "f95754cf-f10f-4aa8-a475-9a463349fa99",
   "metadata": {},
   "outputs": [],
   "source": [
    "df = pd.DataFrame(columns=team_title)\n",
    "df"
   ]
  },
  {
   "cell_type": "code",
   "execution_count": null,
   "id": "6b191407-5d21-47ba-a6dd-391d9bf1280f",
   "metadata": {},
   "outputs": [],
   "source": [
    "columns_data = table.find_all('tr')"
   ]
  },
  {
   "cell_type": "code",
   "execution_count": null,
   "id": "cd9a6df3-a606-41d3-a73d-2d8e8efad3c1",
   "metadata": {},
   "outputs": [],
   "source": [
    "for row in columns_data:\n",
    "    row_data = row.find_all('td')\n",
    "    individual_row_data = [data.text.strip() for data in row_data]\n",
    "    print(individual_row_data)\n",
    "    length = len(df)\n",
    "    df.loc[length] = individual_row_data"
   ]
  },
  {
   "cell_type": "code",
   "execution_count": null,
   "id": "575ad85a-73d9-45da-8971-8617741bd9f5",
   "metadata": {},
   "outputs": [],
   "source": [
    "df"
   ]
  },
  {
   "cell_type": "code",
   "execution_count": null,
   "id": "6db77c7f-68ab-4355-abd1-e63edb7afc59",
   "metadata": {},
   "outputs": [],
   "source": [
    "df.to_csv(r'D:\\web scraping\\highest_partnership_byruns.csv', index = False)"
   ]
  }
 ],
 "metadata": {
  "kernelspec": {
   "display_name": "Python 3 (ipykernel)",
   "language": "python",
   "name": "python3"
  },
  "language_info": {
   "codemirror_mode": {
    "name": "ipython",
    "version": 3
   },
   "file_extension": ".py",
   "mimetype": "text/x-python",
   "name": "python",
   "nbconvert_exporter": "python",
   "pygments_lexer": "ipython3",
   "version": "3.11.5"
  }
 },
 "nbformat": 4,
 "nbformat_minor": 5
}
